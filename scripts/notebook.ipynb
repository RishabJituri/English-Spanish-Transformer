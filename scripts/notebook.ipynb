{
 "cells": [
  {
   "cell_type": "code",
   "execution_count": 2,
   "metadata": {},
   "outputs": [],
   "source": [
    "from ESDataset import EnglishSpanishDataset\n",
    "import argparse\n",
    "import sys\n",
    "import torch.nn as nn\n",
    "import torch \n",
    "import torch.nn.functional as F\n",
    "\n"
   ]
  },
  {
   "cell_type": "code",
   "execution_count": 3,
   "metadata": {},
   "outputs": [],
   "source": [
    "statsfile = \"../data/stats.txt\"\n",
    "datafile = \"../data/processed_data.csv\"\n",
    "Dataset = EnglishSpanishDataset(statsfile, datafile)\n"
   ]
  },
  {
   "cell_type": "code",
   "execution_count": 4,
   "metadata": {},
   "outputs": [
    {
     "name": "stdout",
     "output_type": "stream",
     "text": [
      "torch.Size([45])\n",
      "torch.Size([45])\n"
     ]
    }
   ],
   "source": [
    "input,_ = Dataset[1]\n",
    "print(input.size())\n",
    "embedding_type_beat = nn.Embedding(num_embeddings=input.size(-1),embedding_dim=512)\n",
    "print(input.size())\n",
    "x = embedding_type_beat(input)\n",
    "\n"
   ]
  },
  {
   "cell_type": "code",
   "execution_count": 5,
   "metadata": {},
   "outputs": [
    {
     "data": {
      "text/plain": [
       "torch.Size([45, 512])"
      ]
     },
     "execution_count": 5,
     "metadata": {},
     "output_type": "execute_result"
    }
   ],
   "source": [
    "x.size()"
   ]
  },
  {
   "cell_type": "code",
   "execution_count": 6,
   "metadata": {},
   "outputs": [],
   "source": [
    "QW = torch.rand([8,x.size(-1),256])\n",
    "KW = torch.rand([8,x.size(-1),256])\n",
    "VW= torch.rand([8,x.size(-1),256])"
   ]
  },
  {
   "cell_type": "code",
   "execution_count": 7,
   "metadata": {},
   "outputs": [
    {
     "data": {
      "text/plain": [
       "torch.Size([8, 512, 256])"
      ]
     },
     "execution_count": 7,
     "metadata": {},
     "output_type": "execute_result"
    }
   ],
   "source": [
    "import math\n",
    "\n",
    "QW.size()\n",
    "# torch.matmul(Q,K.transpose(1,2)).size()\n",
    "# # F.softmax((Q @ K.T)/math.sqrt(K.size(-1)),dim=0)@V"
   ]
  },
  {
   "cell_type": "code",
   "execution_count": 8,
   "metadata": {},
   "outputs": [
    {
     "data": {
      "text/plain": [
       "torch.Size([45, 2048])"
      ]
     },
     "execution_count": 8,
     "metadata": {},
     "output_type": "execute_result"
    }
   ],
   "source": [
    "QW = torch.rand([8,x.size(-1),256])\n",
    "KW = torch.rand([8,x.size(-1),256])\n",
    "VW= torch.rand([8,x.size(-1),256])\n",
    "Q = torch.matmul(x,QW)\n",
    "Q.size()\n",
    "K = torch.matmul(x,KW)\n",
    "V = torch.matmul(x,VW)\n",
    "score = F.sigmoid(Q@K.transpose(1,2)/K.size(-1))\n",
    "V.size()\n",
    "\n",
    "attention = torch.matmul(score,V)\n",
    "concatenated = attention.reshape(45,-1)\n",
    "concatenated.size()\n",
    "\n"
   ]
  }
 ],
 "metadata": {
  "kernelspec": {
   "display_name": ".venv",
   "language": "python",
   "name": "python3"
  },
  "language_info": {
   "codemirror_mode": {
    "name": "ipython",
    "version": 3
   },
   "file_extension": ".py",
   "mimetype": "text/x-python",
   "name": "python",
   "nbconvert_exporter": "python",
   "pygments_lexer": "ipython3",
   "version": "3.11.9"
  }
 },
 "nbformat": 4,
 "nbformat_minor": 2
}
