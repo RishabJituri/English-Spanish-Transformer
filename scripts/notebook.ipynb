{
 "cells": [
  {
   "cell_type": "code",
   "execution_count": 1,
   "metadata": {},
   "outputs": [],
   "source": [
    "from ESDataset import EnglishSpanishDataset\n",
    "import argparse\n",
    "import sys\n",
    "import torch.nn as nn\n",
    "import torch \n",
    "import torch.nn.functional as F\n",
    "\n"
   ]
  },
  {
   "cell_type": "code",
   "execution_count": 2,
   "metadata": {},
   "outputs": [],
   "source": [
    "statsfile = \"../data/stats.txt\"\n",
    "datafile = \"../data/processed_data.csv\"\n",
    "Dataset = EnglishSpanishDataset(statsfile, datafile)\n"
   ]
  },
  {
   "cell_type": "code",
   "execution_count": 44,
   "metadata": {},
   "outputs": [
    {
     "name": "stdout",
     "output_type": "stream",
     "text": [
      "torch.Size([45])\n"
     ]
    }
   ],
   "source": [
    "input,_ = Dataset[0]\n",
    "embedding_type_beat = nn.Embedding(num_embeddings=input.size(-1),embedding_dim=512)\n",
    "print(input.size())\n",
    "x = embedding_type_beat(input)\n",
    "\n"
   ]
  },
  {
   "cell_type": "code",
   "execution_count": 45,
   "metadata": {},
   "outputs": [
    {
     "data": {
      "text/plain": [
       "tensor([[ 1.0314, -0.4262,  0.4572,  ..., -0.2347, -0.2831, -0.9012],\n",
       "        [-0.4470,  0.7064,  0.0881,  ...,  2.1289,  1.3403, -0.8857],\n",
       "        [-0.5672,  0.3062,  1.5205,  ...,  0.3074,  1.6525, -1.6146],\n",
       "        ...,\n",
       "        [-0.5672,  0.3062,  1.5205,  ...,  0.3074,  1.6525, -1.6146],\n",
       "        [-0.5672,  0.3062,  1.5205,  ...,  0.3074,  1.6525, -1.6146],\n",
       "        [-0.5672,  0.3062,  1.5205,  ...,  0.3074,  1.6525, -1.6146]],\n",
       "       grad_fn=<EmbeddingBackward0>)"
      ]
     },
     "execution_count": 45,
     "metadata": {},
     "output_type": "execute_result"
    }
   ],
   "source": [
    "x"
   ]
  },
  {
   "cell_type": "code",
   "execution_count": 46,
   "metadata": {},
   "outputs": [
    {
     "name": "stdout",
     "output_type": "stream",
     "text": [
      "torch.Size([45, 512])\n"
     ]
    },
    {
     "data": {
      "text/plain": [
       "<function Tensor.size>"
      ]
     },
     "execution_count": 46,
     "metadata": {},
     "output_type": "execute_result"
    }
   ],
   "source": [
    "# x = x[0].unsqueeze(0)\n",
    "\n",
    "print(x.size())\n",
    "Q = nn.Linear(512,256,False)(x)\n",
    "K = nn.Linear(512,256,False)(x)\n",
    "V = nn.Linear(512,256,False)(x)\n",
    "\n",
    "Q.size\n",
    "\n",
    "\n",
    "# inner = F.softmax((Q.T@K)/K.size(0)).size() \n",
    "# inner\n"
   ]
  }
 ],
 "metadata": {
  "kernelspec": {
   "display_name": ".venv",
   "language": "python",
   "name": "python3"
  },
  "language_info": {
   "codemirror_mode": {
    "name": "ipython",
    "version": 3
   },
   "file_extension": ".py",
   "mimetype": "text/x-python",
   "name": "python",
   "nbconvert_exporter": "python",
   "pygments_lexer": "ipython3",
   "version": "3.11.9"
  }
 },
 "nbformat": 4,
 "nbformat_minor": 2
}
